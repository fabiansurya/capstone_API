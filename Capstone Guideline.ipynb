{
 "cells": [
  {
   "cell_type": "markdown",
   "metadata": {},
   "source": [
    "# Background\n",
    "\n",
    "Sebagai data scientist, tugas utama kita akan selalu bergelut dengan data. Namun, selama ini, apakah kita sadar darimana data kita berasal? bagaimana data kita dikumpulkan? dsb dsb? Untuk menjadi seorang data scientist yang baik, saya rasa pengetahuan dan pengalmaan dalam mengumpulkan data cukup penting. Apakah anda pernah kesulitan dalam mencari data? apakah anda pernah kesulitan dalam melakukan pelabelan data? apakah kalian percaya bahwa data seharusnya gratis dan mudah untuk diakses. It's Data for Democracy!\n",
    "\n",
    "Untuk membuat data dapat diakses oleh semua orang, pihak penyedia jasa juga harus memberikan batasan guna mengurangi penggunaan berlebihan dan penyalahgunaan data oleh pihak-pihak yang tidak bertanggungjawab. Untuk menanggulangi permasalahn ini, kita bisa memanfaatkan teknologi API (Application Program Interface). Dengan API, kita dapat mengatur bagaimana data kita dapat diakses secara umum.\n",
    "\n",
    "Dalam Capstone kali ini, kita akan mencoba membuat API menggunakan python + flask agar data kita dapat diakses secara umum. Secara konsep, kita akan membangun aplikasi python menggunakan flask yang dapat mengatur, membaa, dan mengirimkan response terhadap request user.\n"
   ]
  },
  {
   "cell_type": "markdown",
   "metadata": {},
   "source": [
    "**Data yang digunakan:** \n",
    "- books_c.csv\n",
    "\n",
    "**Environtments:**\n",
    "- python \n",
    "- pandas\n",
    "- flask \n",
    "- gunicorn\n",
    "\n",
    "\n",
    "**Goals**\n",
    "1. Berhasil membuat Flask APP yang berfungsi sebagai API yang memberikan data dalam format JSON\n",
    "2. Berhasil membuat minimal 2 endpoint statis (atau lebih) dan 1 endpoint dinamis(atau lebih) menggunakan routing\n",
    "3. Berhasil melakukan deployment Flask APP ke Heroku\n",
    "\n",
    "*Notes: menggunakan endpoints yang sudah dicontohkan tidak akan dihitung sebagai endpoint hasil kerja capstone*"
   ]
  },
  {
   "cell_type": "markdown",
   "metadata": {},
   "source": [
    "# Membangun API Python dalam 6 menit \n",
    "*Disclaimer: Course ini adalah course singkat untuk memperkenalkan student kedalam dunia **backend**. Akan ada sangat banyak kekurangan dari konsep API yang ada saat ini. Untuk kemudahan, kita hanya akan membahas konsep dasar dari API dan dan mewujudkannya dalam bentuk Flask App"
   ]
  },
  {
   "cell_type": "markdown",
   "metadata": {},
   "source": [
    "Kita akan mencoba membangun Flask App sebagai API, oleh karena itu jika belum memiliki library `Flask`, silakan install menggunakan `pip install flask`. Berikut adalah beberapa library yang akan kita butuhkan. Cobalah import library tersebut sebelum menginstallnya. "
   ]
  },
  {
   "cell_type": "code",
   "execution_count": 1,
   "metadata": {},
   "outputs": [],
   "source": [
    "# !pip install flask\n",
    "# !pip install pandas\n",
    "# !pip install requests\n",
    "# !pip install gunicorn"
   ]
  },
  {
   "cell_type": "code",
   "execution_count": 1,
   "metadata": {
    "ExecuteTime": {
     "start_time": "2020-01-30T13:25:31.732Z"
    }
   },
   "outputs": [],
   "source": [
    "import flask"
   ]
  },
  {
   "cell_type": "code",
   "execution_count": 2,
   "metadata": {
    "ExecuteTime": {
     "start_time": "2020-01-30T13:25:32.348Z"
    }
   },
   "outputs": [],
   "source": [
    "import pandas "
   ]
  },
  {
   "cell_type": "code",
   "execution_count": 3,
   "metadata": {
    "ExecuteTime": {
     "start_time": "2020-01-30T13:25:32.735Z"
    }
   },
   "outputs": [],
   "source": [
    "import requests"
   ]
  },
  {
   "cell_type": "code",
   "execution_count": 4,
   "metadata": {
    "ExecuteTime": {
     "start_time": "2020-01-30T13:25:33.065Z"
    }
   },
   "outputs": [],
   "source": [
    "import gunicorn"
   ]
  },
  {
   "cell_type": "markdown",
   "metadata": {},
   "source": [
    "Membuat aplikasi Flask sesederhana menulis code dalam 7 baris !\n",
    "cobalah buat file `app.py` yang berisi script berikut :\n",
    "\n",
    "```python\n",
    "from flask import Flask, request \n",
    "app = Flask(__name__) \n",
    "\n",
    "@app.route('/home')\n",
    "def home():\n",
    "    return 'Hello World'\n",
    "\n",
    "if __name__ == '__main__':\n",
    "    app.run(debug=True, port=5000)\n",
    "```"
   ]
  },
  {
   "cell_type": "markdown",
   "metadata": {},
   "source": [
    "Setelah membuat file `app.py` berisikan script diatas, cobalah jalankan file tersebut melalui terminal dengan masuk ke direktori yang sama dengan file tersebut, dan jalankan sintaks `python app.py`. Setelah menjalankan sintaks tersebut, maka aplikasi kita akan berjalan dengan alamat `localhost` dengan port `5000`, atau dapat kalian akses melalui browser dengan alamat `localhost:5000`. \n",
    "\n",
    "pada baris ke-4, terdapat sintaks `@app.route('/home')`, yang berarti bahwa fungsi atau method dibawahnya (fungsi `home`) akan dijalankan ketika user mengakses rute atau alaman `/home`. Sekarang, cobalah akses `localhost:5000/home`, maka kalian akan mendapatkan tulisan 'Hello World'\n",
    "\n",
    "Pada baris terakhir, `debug=True` akan menampilkan semua log aktivitas dari app kita dalam terminal/comman prompt/shell dimana app kita dijalankan. \n",
    "\n",
    "Dari contoh script diatas, kita dapat katakan bahwa rute atau `route` adalah endpoints, atau tempat dimana sistem dan user saling bersentuhan. Dalam kasus diatas, untuk mendapatkan 'Hello World', maka kita harus mengakses endpoint `/home`. Sekali lagi, **representasi endpoint adalah route**."
   ]
  },
  {
   "cell_type": "markdown",
   "metadata": {},
   "source": [
    "## Query Arguments"
   ]
  },
  {
   "cell_type": "markdown",
   "metadata": {},
   "source": [
    "Setelah mengetahui kerangka utama dalam membuat aplikasi Flask, cukup penting untuk mengetahui Query Arguments. Ketika kita melakukan pencarian pada mesin pencari seperti google.com, jika kita perhatikan pada alamat (url) yang diberikan, terdapat query arguments yang diberikan setelah `google.com/` yang diawali dengan `?`. \n",
    "\n",
    "Format query pada url pada ummnya adalah `example.com?arg1=value1&arg2=value2`, dimana query akan diawali dengan `?`, dihubungkan dengan `&`, dan setiap query adalah pasangan `key` dan `value`"
   ]
  },
  {
   "cell_type": "markdown",
   "metadata": {},
   "source": [
    "```python\n",
    "from flask import Flask, request \n",
    "app = Flask(__name__) \n",
    "\n",
    "@app.route('/query')\n",
    "def query_example():\n",
    "    key1 = 'name'\n",
    "    key2 = 'age'\n",
    "    name = request.args[key1] # Jika key tidak disertakan dalam URL, maka akan terjadi server error\n",
    "    age = request.args.get(key2) # Jika key tidak disertakan dalam URL, maka age akan bernilai None\n",
    "    return(f\"Hello, {name}, yoau are {age} years old\")\n",
    "\n",
    "if __name__ == '__main__':\n",
    "    app.run(debug=True, port=5000) \n",
    "```"
   ]
  },
  {
   "cell_type": "markdown",
   "metadata": {},
   "source": [
    "Silakan update file `app.py` dengan script diatas, lalu akses `localhost:5000/query?name=Budi Setiawan`. Perhatikan error yang ditampilkan. Sekarang, cobalah akses  `localhost:5000/query?name=Budi Setiawan&age=32`. Lalu bandingkan ketika kita mengakses  `localhost:5000/query?age=32`. Dari contoh diatas, terdapat dua cara untuk mendaptkan arguments dari url yang dikirim oleh user. Pertama adalah dengan menggunakan `request.args[key]`. Namun cara ini cukup beresiko mengingat jika key tidak tersedia dalam url, maka akan terjadi server error. Cara pertama ini jarang digunakna kecuali jika kita memang mewajibkan adanya argumen tertentu. Cara yang kedua adalah `request.args.get(key)`. Cara kedua ini lebih sering digunakan karena secara otomatis akan memberikan nilai None jika key tidak terdapat dalam url.\n",
    "\n",
    "Dalam API, penggunaan query arguments dapat sangat membantu terutama dalam endpoint dinamis. Kita akan pelajari bagaimana query arguments akan sangat membantu ktia dalam menyederhanakan pembuatan API server kita. "
   ]
  },
  {
   "cell_type": "markdown",
   "metadata": {},
   "source": [
    "## API Methods"
   ]
  },
  {
   "cell_type": "markdown",
   "metadata": {},
   "source": [
    "Senada dengan konsep **CRUD** (**C**reate, **R**read, **U**pdate, **D**elete) dalam database, dalam API konsep tersebut diadopsi menjadi \n",
    "- POST(CREATE), \n",
    "- GET(READ), \n",
    "- PUT(UPDATE), \n",
    "- DELETE\n",
    "\n",
    "Secara konsep, method POST, GET, PUT, dan DELETE dibuat untuk mengatur API agar dapat lebih terstruktur. Meskipun pada prakterknya, endpoint yang kita definisikan menggunakan method \"POST\" tidaklah harus untuk membuat data. Artinya, tidak ada aturan yang mengharuskan kita untuk menuliskan jenis method dalam setiap endpoints kita (default endpoints menggunakan method GET). Namun, untuk tujuan kerapihan dan mengikuti kaidah yang benar, kita akan coba mendefinisikan endpoints kita dengan method tertentu, dan melihat manfaat dari penggunaan jenis method dalam setiap endpoint. \n",
    "\n"
   ]
  },
  {
   "cell_type": "markdown",
   "metadata": {},
   "source": [
    "Berikut adalah contoh sederhana mengenai method POST dan GET\n",
    "```python \n",
    "from flask import Flask, request \n",
    "app = Flask(__name__)\n",
    "\n",
    "@app.route('/coba', methods=['GET', 'POST'])\n",
    "def terserah():\n",
    "    if request.method == 'GET':\n",
    "        return \"Ini adalah Hasil method GET\"\n",
    "    else:\n",
    "        return \"Ini adalah hasil method POST\"\n",
    "\n",
    "\n",
    "if __name__ == '__main__':\n",
    "    app.run(debug=True, port=5000) \n",
    "```"
   ]
  },
  {
   "cell_type": "markdown",
   "metadata": {},
   "source": [
    "Dan berikut adalah contoh yang lebih rumit\n",
    "```python\n",
    "from flask import Flask, request \n",
    "app = Flask(__name__)\n",
    "\n",
    "@app.route('/form', methods=['GET', 'POST']) #allow both GET and POST requests\n",
    "def form():\n",
    "    if request.method == 'POST':  # Hanya akan tampil setelah melakukan POST (submit) form\n",
    "        key1 = 'name'\n",
    "        key2 = 'age'\n",
    "        name = request.form.get(key1)\n",
    "        age = request.form[key2]\n",
    "        \n",
    "        return (f'''<h1>Your Name  is: {name}</h1>\n",
    "                   <h1>Your Age is: {age}</h1>\n",
    "                ''')\n",
    "   \n",
    "    \n",
    "    return '''<form method=\"POST\">\n",
    "                  Name: <input type=\"text\" name=\"name\"><br>\n",
    "                  Age: <input type=\"text\" name=\"age\"><br>\n",
    "                  <input type=\"submit\" value=\"Submit\"><br>\n",
    "              </form>'''\n",
    "\n",
    "if __name__ == '__main__':\n",
    "    app.run(debug=True, port=5000) \n",
    "```"
   ]
  },
  {
   "cell_type": "markdown",
   "metadata": {},
   "source": [
    "Silakan update file `app.py` kalian dengan sintaks diatas, lalu akses `localhost:5000/form`, aka akan muncul form sederhana dengan tombol \"submit\". Mengapa form tampil terlebih dahulu? karena dalam url `localhost:5000/form`, kita tidak mendefinisikan method kita sebagai POST atau GET. Maka, secara default request kita akan dianggap sebagai GET. Apakah kita bisa menentukan method kita dalam url? Kami sarankan untuk tidak mencobanya. \n",
    "\n",
    "Dalam sintaks diatas, kita mendefinisikan rute atau endpoint `/form` sebagai GET atau POST. Hal ini berarti endpoint tersebut dapat menerima request GET atau POST. \n",
    "\n",
    "Setelah kita mengisi form dan menekan tombol \"submit\", maka kita akan melakukan request POST dengan mengirimkan data-data berupa nama dan umur kepada server kita. Oleh sebab itu, server kita akan menjalankan perintah yang berada dalam kondisi `if request.method == 'POST':`\n",
    "\n",
    "Cobalah untuk mengganti `if request.method == 'POST':` menjadi `if request.method == 'GET':`, maka kalian akan melihat perbedannya. \n",
    "\n",
    "Jika kalian penasaran, cobalah ubah `@app.route('/form', methods=['GET', 'POST'])` menjadi `@app.route('/form', methods=['POST'])`\n"
   ]
  },
  {
   "cell_type": "markdown",
   "metadata": {},
   "source": [
    "## JSON Data Type"
   ]
  },
  {
   "cell_type": "markdown",
   "metadata": {},
   "source": [
    "JSON adalah standar tipe data dalam pengiriman data dengan protokol HTTP. Pada dasarnya, JSON (JavaScript Object Name) sangat mirip, atau bisa dibilang identik dengan tipe data `dictionary` dalam python. Dictionary terdiri dari pasangan `key`:`value`. Berikut adalah contoh bentuk dan akses data dictionary. "
   ]
  },
  {
   "cell_type": "code",
   "execution_count": null,
   "metadata": {},
   "outputs": [],
   "source": [
    "pd.read_"
   ]
  },
  {
   "cell_type": "code",
   "execution_count": 5,
   "metadata": {
    "ExecuteTime": {
     "start_time": "2020-01-30T13:24:15.353Z"
    }
   },
   "outputs": [
    {
     "name": "stdout",
     "output_type": "stream",
     "text": [
      "Pengaran buku: Anthony, dengan halaman 123, diterbitkan pada 2019\n"
     ]
    }
   ],
   "source": [
    "books = {'author': 'Anthony',\n",
    "         'num_of_page': 123,\n",
    "         'year' : 2019\n",
    "        }\n",
    "print(f\"Pengaran buku: {books['author']}, dengan halaman {books['num_of_page']}, diterbitkan pada {books['year']}\")"
   ]
  },
  {
   "cell_type": "markdown",
   "metadata": {},
   "source": [
    "Kita akan mencoba mengirimkan data JSON menggunakan method POST ke endpoint kita. Dikarenakan browser biasa tidak bisa menangani hal tersebut, kita bisa gunakan [postman](https://www.getpostman.com/) atau jupyter notebook untuk membantu.\n",
    "Silakan update file `app.py` dengan script berikut: "
   ]
  },
  {
   "cell_type": "markdown",
   "metadata": {},
   "source": [
    "```python\n",
    "from flask import Flask, request \n",
    "app = Flask(__name__) \n",
    "\n",
    "@app.route('/json', methods=['POST']) \n",
    "def json_exmp():\n",
    "    \n",
    "    req = request.get_json(force=True) # melakukan parsing data json, menyimpannya sebagai dictionary\n",
    "    \n",
    "    name = req['name']\n",
    "    age = req['age']\n",
    "    address = req['address']\n",
    "    \n",
    "    return (f'''Hello {name}, your age is {age}, and your address in {address}\n",
    "            ''')\n",
    "\n",
    "if __name__ == '__main__':\n",
    "    app.run(debug=True, port=5000) #run app in debug mode on port 5000\n",
    "```"
   ]
  },
  {
   "cell_type": "markdown",
   "metadata": {},
   "source": [
    "Setelah server tersebut diupdate, kita akan coba melakukan request menggunakan library requests pada python"
   ]
  },
  {
   "cell_type": "code",
   "execution_count": 6,
   "metadata": {},
   "outputs": [
    {
     "name": "stdout",
     "output_type": "stream",
     "text": [
      "<Response [404]>\n"
     ]
    }
   ],
   "source": [
    "import requests\n",
    "\n",
    "url = 'http://localhost:5000/json'\n",
    "data = {\"name\" : \"Andi\", \n",
    "        \"age\" : 10,\n",
    "        \"address\" : \"Jakarta\"\n",
    "       }\n",
    "r = requests.post(url,json=data) # pastikan gunakan requests.pos, bukan requests.get\n",
    "print(r)"
   ]
  },
  {
   "cell_type": "markdown",
   "metadata": {},
   "source": [
    "Response 200 berarti API kita berhasil mengirimkan atau melakukan request yang kita kirim. Untuk mempelajari jenis-jenis repsonse yang dikirimkan melalui HTTP, silakan merujuk ke [sumber ini](https://restfulapi.net/http-status-codes/). Objek yang kita kirimkan berupa `requests.models.Response`. Untuk mendapatkan isi dari respon tersebut, kita dapat gunakan `.text` atau `.content`"
   ]
  },
  {
   "cell_type": "code",
   "execution_count": 7,
   "metadata": {},
   "outputs": [
    {
     "name": "stdout",
     "output_type": "stream",
     "text": [
      "<class 'requests.models.Response'>\n"
     ]
    }
   ],
   "source": [
    "print(type(r))"
   ]
  },
  {
   "cell_type": "code",
   "execution_count": 8,
   "metadata": {},
   "outputs": [
    {
     "name": "stdout",
     "output_type": "stream",
     "text": [
      "b'<!DOCTYPE HTML PUBLIC \"-//W3C//DTD HTML 3.2 Final//EN\">\\n<title>404 Not Found</title>\\n<h1>Not Found</h1>\\n<p>The requested URL was not found on the server. If you entered the URL manually please check your spelling and try again.</p>\\n'\n",
      "<!DOCTYPE HTML PUBLIC \"-//W3C//DTD HTML 3.2 Final//EN\">\n",
      "<title>404 Not Found</title>\n",
      "<h1>Not Found</h1>\n",
      "<p>The requested URL was not found on the server. If you entered the URL manually please check your spelling and try again.</p>\n",
      "\n"
     ]
    }
   ],
   "source": [
    "print(r.content)\n",
    "print(r.text)"
   ]
  },
  {
   "cell_type": "markdown",
   "metadata": {},
   "source": [
    "## Data Fetching"
   ]
  },
  {
   "cell_type": "markdown",
   "metadata": {},
   "source": [
    "Kembali ke tujuan utama, kita akan mencoba membuat API yang mampu mengirimkan data dalam bentuk DataFrame (dalam format JSON). Dalam hal ini, kita akan coba menggunakan data `books_c.csv` yang terdapat dalam folder `data_input`. Dalam contoh kali ini, kita akan mengaplikasikan dynamic routing. Konsepnya adalah kita tidak secara eksplisit membuat route atau endpoint, melainkan menyimpannya dalam variabel. Hal ini akan sangat berguna jika data yang ingin kita berikan sangat beragam dan bergantung pada keinginan user.\n",
    "\n",
    "Untuk melakukan dynamic routing, cukup simpan variabel kedalam tanda `< >`, lalu masukkan variabel tersebut sebagai parameter fungsi di endpoint yang bersangkutan. "
   ]
  },
  {
   "cell_type": "markdown",
   "metadata": {},
   "source": [
    "```python \n",
    "from flask import Flask, request \n",
    "import pandas as pd \n",
    "app = Flask(__name__) \n",
    "\n",
    "# mendapatkan keseluruhan data dari <data_name>\n",
    "@app.route('/data/get/<data_name>', methods=['GET']) \n",
    "def get_data(data_name): \n",
    "    data = pd.read_csv('data/' + str(data_name))\n",
    "    return (data.to_json())\n",
    "    \n",
    "\n",
    "# mendapatkan data dengan filter nilai <value> pada kolom <column>\n",
    "@app.route('/data/get/equal/<data_name>/<column>/<value>', methods=['GET']) \n",
    "def get_data_equal(data_name, column, value): \n",
    "    data = pd.read_csv('data/' + str(data_name))\n",
    "    mask = data[column] == value\n",
    "    data = data[mask]\n",
    "    return (data.to_json())\n",
    "\n",
    "if __name__ == '__main__':\n",
    "    app.run(debug=True, port=5000) \n",
    "```"
   ]
  },
  {
   "cell_type": "markdown",
   "metadata": {},
   "source": [
    "Untuk meminta data menggunakan API yang telah ada, silakan jalankan cells berikut"
   ]
  },
  {
   "cell_type": "code",
   "execution_count": 23,
   "metadata": {},
   "outputs": [],
   "source": [
    "import requests\n",
    "import gunicorn\n",
    "import flask\n",
    "import pandas as pd\n",
    "import sqlite3"
   ]
  },
  {
   "cell_type": "code",
   "execution_count": 29,
   "metadata": {},
   "outputs": [
    {
     "ename": "AttributeError",
     "evalue": "'DataFrame' object has no attribute 'sort_value'",
     "output_type": "error",
     "traceback": [
      "\u001b[1;31m--------------------------------------------------\u001b[0m",
      "\u001b[1;31mAttributeError\u001b[0m   Traceback (most recent call last)",
      "\u001b[1;32m<ipython-input-29-997d8cc87d9b>\u001b[0m in \u001b[0;36m<module>\u001b[1;34m\u001b[0m\n\u001b[0;32m      1\u001b[0m \u001b[0mbook\u001b[0m\u001b[1;33m=\u001b[0m\u001b[0mpd\u001b[0m\u001b[1;33m.\u001b[0m\u001b[0mread_csv\u001b[0m\u001b[1;33m(\u001b[0m\u001b[1;34m'data/books_c.csv'\u001b[0m\u001b[1;33m)\u001b[0m\u001b[1;33m\u001b[0m\u001b[1;33m\u001b[0m\u001b[0m\n\u001b[0;32m      2\u001b[0m \u001b[0mmask\u001b[0m \u001b[1;33m=\u001b[0m \u001b[0mbook\u001b[0m\u001b[1;33m[\u001b[0m\u001b[1;34m'average_rating'\u001b[0m\u001b[1;33m]\u001b[0m \u001b[1;33m<=\u001b[0m \u001b[0mfloat\u001b[0m\u001b[1;33m(\u001b[0m\u001b[1;36m3\u001b[0m\u001b[1;33m)\u001b[0m\u001b[1;33m\u001b[0m\u001b[1;33m\u001b[0m\u001b[0m\n\u001b[1;32m----> 3\u001b[1;33m \u001b[0mbook\u001b[0m \u001b[1;33m=\u001b[0m \u001b[0mbook\u001b[0m\u001b[1;33m[\u001b[0m\u001b[0mmask\u001b[0m\u001b[1;33m]\u001b[0m\u001b[1;33m.\u001b[0m\u001b[0msort_value\u001b[0m\u001b[1;33m(\u001b[0m\u001b[0mby\u001b[0m\u001b[1;33m=\u001b[0m \u001b[1;34m'average_rating'\u001b[0m\u001b[1;33m,\u001b[0m \u001b[0mascending\u001b[0m\u001b[1;33m=\u001b[0m\u001b[1;32mFalse\u001b[0m\u001b[1;33m)\u001b[0m\u001b[1;33m\u001b[0m\u001b[1;33m\u001b[0m\u001b[0m\n\u001b[0m\u001b[0;32m      4\u001b[0m \u001b[0mbook\u001b[0m\u001b[1;33m.\u001b[0m\u001b[0mhead\u001b[0m\u001b[1;33m(\u001b[0m\u001b[1;33m)\u001b[0m\u001b[1;33m\u001b[0m\u001b[1;33m\u001b[0m\u001b[0m\n",
      "\u001b[1;32m~\\.conda\\envs\\capstone-API\\lib\\site-packages\\pandas\\core\\generic.py\u001b[0m in \u001b[0;36m__getattr__\u001b[1;34m(self, name)\u001b[0m\n\u001b[0;32m   5128\u001b[0m             \u001b[1;32mif\u001b[0m \u001b[0mself\u001b[0m\u001b[1;33m.\u001b[0m\u001b[0m_info_axis\u001b[0m\u001b[1;33m.\u001b[0m\u001b[0m_can_hold_identifiers_and_holds_name\u001b[0m\u001b[1;33m(\u001b[0m\u001b[0mname\u001b[0m\u001b[1;33m)\u001b[0m\u001b[1;33m:\u001b[0m\u001b[1;33m\u001b[0m\u001b[1;33m\u001b[0m\u001b[0m\n\u001b[0;32m   5129\u001b[0m                 \u001b[1;32mreturn\u001b[0m \u001b[0mself\u001b[0m\u001b[1;33m[\u001b[0m\u001b[0mname\u001b[0m\u001b[1;33m]\u001b[0m\u001b[1;33m\u001b[0m\u001b[1;33m\u001b[0m\u001b[0m\n\u001b[1;32m-> 5130\u001b[1;33m             \u001b[1;32mreturn\u001b[0m \u001b[0mobject\u001b[0m\u001b[1;33m.\u001b[0m\u001b[0m__getattribute__\u001b[0m\u001b[1;33m(\u001b[0m\u001b[0mself\u001b[0m\u001b[1;33m,\u001b[0m \u001b[0mname\u001b[0m\u001b[1;33m)\u001b[0m\u001b[1;33m\u001b[0m\u001b[1;33m\u001b[0m\u001b[0m\n\u001b[0m\u001b[0;32m   5131\u001b[0m \u001b[1;33m\u001b[0m\u001b[0m\n\u001b[0;32m   5132\u001b[0m     \u001b[1;32mdef\u001b[0m \u001b[0m__setattr__\u001b[0m\u001b[1;33m(\u001b[0m\u001b[0mself\u001b[0m\u001b[1;33m,\u001b[0m \u001b[0mname\u001b[0m\u001b[1;33m:\u001b[0m \u001b[0mstr\u001b[0m\u001b[1;33m,\u001b[0m \u001b[0mvalue\u001b[0m\u001b[1;33m)\u001b[0m \u001b[1;33m->\u001b[0m \u001b[1;32mNone\u001b[0m\u001b[1;33m:\u001b[0m\u001b[1;33m\u001b[0m\u001b[1;33m\u001b[0m\u001b[0m\n",
      "\u001b[1;31mAttributeError\u001b[0m: 'DataFrame' object has no attribute 'sort_value'"
     ]
    }
   ],
   "source": [
    "book=pd.read_csv('data/books_c.csv')\n",
    "mask = book['average_rating'] <= float(3)\n",
    "book = book[mask].value_counts(by= 'average_rating', ascending=False)\n",
    "book.head()"
   ]
  },
  {
   "cell_type": "code",
   "execution_count": 14,
   "metadata": {},
   "outputs": [],
   "source": [
    "pd.options.display.float_format = '{:,.2f}'.format\n"
   ]
  },
  {
   "cell_type": "code",
   "execution_count": 27,
   "metadata": {},
   "outputs": [
    {
     "data": {
      "text/plain": [
       "(1601089, 11)"
      ]
     },
     "execution_count": 27,
     "metadata": {},
     "output_type": "execute_result"
    }
   ],
   "source": [
    "conn = sqlite3.connect(\"data/chinook.db\")\n",
    "invoice2012 = pd.read_sql_query(\n",
    "    '''\n",
    "    SELECT genres.Name as Genre, invoices.*, invoice_items.InvoiceLineId\n",
    "    FROM invoices\n",
    "    LEFT JOIN invoice_items ON invoices.InvoiceId = invoice_items.InvoiceId\n",
    "    LEFT JOIN tracks ON tracks.TrackId = tracks.TrackId\n",
    "    LEFT JOIN genres ON genres.GenreId = tracks.GenreId\n",
    "    WHERE Genre IN ('Rock', 'Jazz', 'Metal') AND invoices.InvoiceDate >= '2012-01-01'\n",
    "    \n",
    "    ''',\n",
    "    conn\n",
    ")\n",
    "invoice2012.shape"
   ]
  },
  {
   "cell_type": "code",
   "execution_count": 10,
   "metadata": {
    "scrolled": true
   },
   "outputs": [
    {
     "ename": "JSONDecodeError",
     "evalue": "Expecting value: line 1 column 1 (char 0)",
     "output_type": "error",
     "traceback": [
      "\u001b[1;31m--------------------------------------------------\u001b[0m",
      "\u001b[1;31mJSONDecodeError\u001b[0m  Traceback (most recent call last)",
      "\u001b[1;32m<ipython-input-10-4eb75e6a5e24>\u001b[0m in \u001b[0;36m<module>\u001b[1;34m\u001b[0m\n\u001b[0;32m      1\u001b[0m \u001b[0murl1\u001b[0m \u001b[1;33m=\u001b[0m \u001b[1;34m'http://localhost:5000/data/get/books_c.csv'\u001b[0m\u001b[1;33m\u001b[0m\u001b[1;33m\u001b[0m\u001b[0m\n\u001b[0;32m      2\u001b[0m \u001b[0mr\u001b[0m \u001b[1;33m=\u001b[0m \u001b[0mrequests\u001b[0m\u001b[1;33m.\u001b[0m\u001b[0mget\u001b[0m\u001b[1;33m(\u001b[0m\u001b[0murl1\u001b[0m\u001b[1;33m)\u001b[0m\u001b[1;33m\u001b[0m\u001b[1;33m\u001b[0m\u001b[0m\n\u001b[1;32m----> 3\u001b[1;33m \u001b[0mr_pd\u001b[0m \u001b[1;33m=\u001b[0m \u001b[0mpd\u001b[0m\u001b[1;33m.\u001b[0m\u001b[0mDataFrame\u001b[0m\u001b[1;33m(\u001b[0m\u001b[0mr\u001b[0m\u001b[1;33m.\u001b[0m\u001b[0mjson\u001b[0m\u001b[1;33m(\u001b[0m\u001b[1;33m)\u001b[0m\u001b[1;33m)\u001b[0m\u001b[1;33m\u001b[0m\u001b[1;33m\u001b[0m\u001b[0m\n\u001b[0m",
      "\u001b[1;32m~\\.conda\\envs\\capstone-API\\lib\\site-packages\\requests\\models.py\u001b[0m in \u001b[0;36mjson\u001b[1;34m(self, **kwargs)\u001b[0m\n\u001b[0;32m    896\u001b[0m                     \u001b[1;31m# used.\u001b[0m\u001b[1;33m\u001b[0m\u001b[1;33m\u001b[0m\u001b[1;33m\u001b[0m\u001b[0m\n\u001b[0;32m    897\u001b[0m                     \u001b[1;32mpass\u001b[0m\u001b[1;33m\u001b[0m\u001b[1;33m\u001b[0m\u001b[0m\n\u001b[1;32m--> 898\u001b[1;33m         \u001b[1;32mreturn\u001b[0m \u001b[0mcomplexjson\u001b[0m\u001b[1;33m.\u001b[0m\u001b[0mloads\u001b[0m\u001b[1;33m(\u001b[0m\u001b[0mself\u001b[0m\u001b[1;33m.\u001b[0m\u001b[0mtext\u001b[0m\u001b[1;33m,\u001b[0m \u001b[1;33m**\u001b[0m\u001b[0mkwargs\u001b[0m\u001b[1;33m)\u001b[0m\u001b[1;33m\u001b[0m\u001b[1;33m\u001b[0m\u001b[0m\n\u001b[0m\u001b[0;32m    899\u001b[0m \u001b[1;33m\u001b[0m\u001b[0m\n\u001b[0;32m    900\u001b[0m     \u001b[1;33m@\u001b[0m\u001b[0mproperty\u001b[0m\u001b[1;33m\u001b[0m\u001b[1;33m\u001b[0m\u001b[0m\n",
      "\u001b[1;32m~\\.conda\\envs\\capstone-API\\lib\\json\\__init__.py\u001b[0m in \u001b[0;36mloads\u001b[1;34m(s, cls, object_hook, parse_float, parse_int, parse_constant, object_pairs_hook, **kw)\u001b[0m\n\u001b[0;32m    355\u001b[0m             \u001b[0mparse_int\u001b[0m \u001b[1;32mis\u001b[0m \u001b[1;32mNone\u001b[0m \u001b[1;32mand\u001b[0m \u001b[0mparse_float\u001b[0m \u001b[1;32mis\u001b[0m \u001b[1;32mNone\u001b[0m \u001b[1;32mand\u001b[0m\u001b[1;33m\u001b[0m\u001b[1;33m\u001b[0m\u001b[0m\n\u001b[0;32m    356\u001b[0m             parse_constant is None and object_pairs_hook is None and not kw):\n\u001b[1;32m--> 357\u001b[1;33m         \u001b[1;32mreturn\u001b[0m \u001b[0m_default_decoder\u001b[0m\u001b[1;33m.\u001b[0m\u001b[0mdecode\u001b[0m\u001b[1;33m(\u001b[0m\u001b[0ms\u001b[0m\u001b[1;33m)\u001b[0m\u001b[1;33m\u001b[0m\u001b[1;33m\u001b[0m\u001b[0m\n\u001b[0m\u001b[0;32m    358\u001b[0m     \u001b[1;32mif\u001b[0m \u001b[0mcls\u001b[0m \u001b[1;32mis\u001b[0m \u001b[1;32mNone\u001b[0m\u001b[1;33m:\u001b[0m\u001b[1;33m\u001b[0m\u001b[1;33m\u001b[0m\u001b[0m\n\u001b[0;32m    359\u001b[0m         \u001b[0mcls\u001b[0m \u001b[1;33m=\u001b[0m \u001b[0mJSONDecoder\u001b[0m\u001b[1;33m\u001b[0m\u001b[1;33m\u001b[0m\u001b[0m\n",
      "\u001b[1;32m~\\.conda\\envs\\capstone-API\\lib\\json\\decoder.py\u001b[0m in \u001b[0;36mdecode\u001b[1;34m(self, s, _w)\u001b[0m\n\u001b[0;32m    335\u001b[0m \u001b[1;33m\u001b[0m\u001b[0m\n\u001b[0;32m    336\u001b[0m         \"\"\"\n\u001b[1;32m--> 337\u001b[1;33m         \u001b[0mobj\u001b[0m\u001b[1;33m,\u001b[0m \u001b[0mend\u001b[0m \u001b[1;33m=\u001b[0m \u001b[0mself\u001b[0m\u001b[1;33m.\u001b[0m\u001b[0mraw_decode\u001b[0m\u001b[1;33m(\u001b[0m\u001b[0ms\u001b[0m\u001b[1;33m,\u001b[0m \u001b[0midx\u001b[0m\u001b[1;33m=\u001b[0m\u001b[0m_w\u001b[0m\u001b[1;33m(\u001b[0m\u001b[0ms\u001b[0m\u001b[1;33m,\u001b[0m \u001b[1;36m0\u001b[0m\u001b[1;33m)\u001b[0m\u001b[1;33m.\u001b[0m\u001b[0mend\u001b[0m\u001b[1;33m(\u001b[0m\u001b[1;33m)\u001b[0m\u001b[1;33m)\u001b[0m\u001b[1;33m\u001b[0m\u001b[1;33m\u001b[0m\u001b[0m\n\u001b[0m\u001b[0;32m    338\u001b[0m         \u001b[0mend\u001b[0m \u001b[1;33m=\u001b[0m \u001b[0m_w\u001b[0m\u001b[1;33m(\u001b[0m\u001b[0ms\u001b[0m\u001b[1;33m,\u001b[0m \u001b[0mend\u001b[0m\u001b[1;33m)\u001b[0m\u001b[1;33m.\u001b[0m\u001b[0mend\u001b[0m\u001b[1;33m(\u001b[0m\u001b[1;33m)\u001b[0m\u001b[1;33m\u001b[0m\u001b[1;33m\u001b[0m\u001b[0m\n\u001b[0;32m    339\u001b[0m         \u001b[1;32mif\u001b[0m \u001b[0mend\u001b[0m \u001b[1;33m!=\u001b[0m \u001b[0mlen\u001b[0m\u001b[1;33m(\u001b[0m\u001b[0ms\u001b[0m\u001b[1;33m)\u001b[0m\u001b[1;33m:\u001b[0m\u001b[1;33m\u001b[0m\u001b[1;33m\u001b[0m\u001b[0m\n",
      "\u001b[1;32m~\\.conda\\envs\\capstone-API\\lib\\json\\decoder.py\u001b[0m in \u001b[0;36mraw_decode\u001b[1;34m(self, s, idx)\u001b[0m\n\u001b[0;32m    353\u001b[0m             \u001b[0mobj\u001b[0m\u001b[1;33m,\u001b[0m \u001b[0mend\u001b[0m \u001b[1;33m=\u001b[0m \u001b[0mself\u001b[0m\u001b[1;33m.\u001b[0m\u001b[0mscan_once\u001b[0m\u001b[1;33m(\u001b[0m\u001b[0ms\u001b[0m\u001b[1;33m,\u001b[0m \u001b[0midx\u001b[0m\u001b[1;33m)\u001b[0m\u001b[1;33m\u001b[0m\u001b[1;33m\u001b[0m\u001b[0m\n\u001b[0;32m    354\u001b[0m         \u001b[1;32mexcept\u001b[0m \u001b[0mStopIteration\u001b[0m \u001b[1;32mas\u001b[0m \u001b[0merr\u001b[0m\u001b[1;33m:\u001b[0m\u001b[1;33m\u001b[0m\u001b[1;33m\u001b[0m\u001b[0m\n\u001b[1;32m--> 355\u001b[1;33m             \u001b[1;32mraise\u001b[0m \u001b[0mJSONDecodeError\u001b[0m\u001b[1;33m(\u001b[0m\u001b[1;34m\"Expecting value\"\u001b[0m\u001b[1;33m,\u001b[0m \u001b[0ms\u001b[0m\u001b[1;33m,\u001b[0m \u001b[0merr\u001b[0m\u001b[1;33m.\u001b[0m\u001b[0mvalue\u001b[0m\u001b[1;33m)\u001b[0m \u001b[1;32mfrom\u001b[0m \u001b[1;32mNone\u001b[0m\u001b[1;33m\u001b[0m\u001b[1;33m\u001b[0m\u001b[0m\n\u001b[0m\u001b[0;32m    356\u001b[0m         \u001b[1;32mreturn\u001b[0m \u001b[0mobj\u001b[0m\u001b[1;33m,\u001b[0m \u001b[0mend\u001b[0m\u001b[1;33m\u001b[0m\u001b[1;33m\u001b[0m\u001b[0m\n",
      "\u001b[1;31mJSONDecodeError\u001b[0m: Expecting value: line 1 column 1 (char 0)"
     ]
    }
   ],
   "source": [
    "url1 = 'http://localhost:5000/data/get/books_c.csv'\n",
    "r = requests.get(url1)\n",
    "r_pd = pd.DataFrame(r.json())"
   ]
  },
  {
   "cell_type": "code",
   "execution_count": null,
   "metadata": {
    "scrolled": true
   },
   "outputs": [],
   "source": [
    "r_pd.head(10)"
   ]
  },
  {
   "cell_type": "code",
   "execution_count": 12,
   "metadata": {},
   "outputs": [
    {
     "data": {
      "text/html": [
       "<div>\n",
       "<style scoped>\n",
       "    .dataframe tbody tr th:only-of-type {\n",
       "        vertical-align: middle;\n",
       "    }\n",
       "\n",
       "    .dataframe tbody tr th {\n",
       "        vertical-align: top;\n",
       "    }\n",
       "\n",
       "    .dataframe thead th {\n",
       "        text-align: right;\n",
       "    }\n",
       "</style>\n",
       "<table border=\"1\" class=\"dataframe\">\n",
       "  <thead>\n",
       "    <tr style=\"text-align: right;\">\n",
       "      <th></th>\n",
       "      <th>bookID</th>\n",
       "      <th>title</th>\n",
       "      <th>authors</th>\n",
       "      <th>average_rating</th>\n",
       "      <th>isbn</th>\n",
       "      <th>isbn13</th>\n",
       "      <th>language_code</th>\n",
       "      <th># num_pages</th>\n",
       "      <th>ratings_count</th>\n",
       "      <th>text_reviews_count</th>\n",
       "    </tr>\n",
       "  </thead>\n",
       "  <tbody>\n",
       "    <tr>\n",
       "      <th>0</th>\n",
       "      <td>1</td>\n",
       "      <td>Harry Potter and the Half-Blood Prince (Harry ...</td>\n",
       "      <td>J.K. Rowling</td>\n",
       "      <td>4.56</td>\n",
       "      <td>0439785960</td>\n",
       "      <td>9780439785969</td>\n",
       "      <td>eng</td>\n",
       "      <td>652</td>\n",
       "      <td>1944099</td>\n",
       "      <td>26249</td>\n",
       "    </tr>\n",
       "  </tbody>\n",
       "</table>\n",
       "</div>"
      ],
      "text/plain": [
       "   bookID                                              title       authors  \\\n",
       "0       1  Harry Potter and the Half-Blood Prince (Harry ...  J.K. Rowling   \n",
       "\n",
       "   average_rating        isbn         isbn13 language_code  # num_pages  \\\n",
       "0            4.56  0439785960  9780439785969           eng          652   \n",
       "\n",
       "   ratings_count  text_reviews_count  \n",
       "0        1944099               26249  "
      ]
     },
     "execution_count": 12,
     "metadata": {},
     "output_type": "execute_result"
    }
   ],
   "source": [
    "url2 = 'http://localhost:5000/data/get/equal/books_c.csv/isbn/0439785960'\n",
    "r = requests.get(url2)\n",
    "r_pd = pd.DataFrame(r.json())\n",
    "r_pd.head()"
   ]
  },
  {
   "cell_type": "code",
   "execution_count": 12,
   "metadata": {
    "scrolled": true
   },
   "outputs": [
    {
     "data": {
      "text/html": [
       "<div>\n",
       "<style scoped>\n",
       "    .dataframe tbody tr th:only-of-type {\n",
       "        vertical-align: middle;\n",
       "    }\n",
       "\n",
       "    .dataframe tbody tr th {\n",
       "        vertical-align: top;\n",
       "    }\n",
       "\n",
       "    .dataframe thead th {\n",
       "        text-align: right;\n",
       "    }\n",
       "</style>\n",
       "<table border=\"1\" class=\"dataframe\">\n",
       "  <thead>\n",
       "    <tr style=\"text-align: right;\">\n",
       "      <th></th>\n",
       "      <th>bookID</th>\n",
       "      <th>title</th>\n",
       "      <th>authors</th>\n",
       "      <th>average_rating</th>\n",
       "      <th>isbn</th>\n",
       "      <th>isbn13</th>\n",
       "      <th>language_code</th>\n",
       "      <th># num_pages</th>\n",
       "      <th>ratings_count</th>\n",
       "      <th>text_reviews_count</th>\n",
       "    </tr>\n",
       "  </thead>\n",
       "  <tbody>\n",
       "    <tr>\n",
       "      <th>2814</th>\n",
       "      <td>8710</td>\n",
       "      <td>The Illustrated Hitchhiker's Guide To The Galaxy</td>\n",
       "      <td>Douglas Adams</td>\n",
       "      <td>4.32</td>\n",
       "      <td>0517599244</td>\n",
       "      <td>9780517599242</td>\n",
       "      <td>eng</td>\n",
       "      <td>96</td>\n",
       "      <td>286</td>\n",
       "      <td>19</td>\n",
       "    </tr>\n",
       "    <tr>\n",
       "      <th>5736</th>\n",
       "      <td>17059</td>\n",
       "      <td>The Hitchhiker's Guide to the Galaxy (Hitchhik...</td>\n",
       "      <td>Douglas Adams</td>\n",
       "      <td>4.22</td>\n",
       "      <td>1400052939</td>\n",
       "      <td>9781400052936</td>\n",
       "      <td>eng</td>\n",
       "      <td>271</td>\n",
       "      <td>210</td>\n",
       "      <td>19</td>\n",
       "    </tr>\n",
       "    <tr>\n",
       "      <th>5933</th>\n",
       "      <td>17707</td>\n",
       "      <td>The Hitchhiker's Guide to the Galaxy (Hitchhik...</td>\n",
       "      <td>Douglas Adams</td>\n",
       "      <td>4.22</td>\n",
       "      <td>0671746065</td>\n",
       "      <td>9780671746063</td>\n",
       "      <td>eng</td>\n",
       "      <td>216</td>\n",
       "      <td>2765</td>\n",
       "      <td>246</td>\n",
       "    </tr>\n",
       "    <tr>\n",
       "      <th>9679</th>\n",
       "      <td>31218</td>\n",
       "      <td>The Hitchhiker's Guide to the Galaxy: The Quin...</td>\n",
       "      <td>Douglas Adams</td>\n",
       "      <td>4.37</td>\n",
       "      <td>0563504072</td>\n",
       "      <td>9780563504078</td>\n",
       "      <td>eng</td>\n",
       "      <td>3</td>\n",
       "      <td>57</td>\n",
       "      <td>1</td>\n",
       "    </tr>\n",
       "    <tr>\n",
       "      <th>10288</th>\n",
       "      <td>33342</td>\n",
       "      <td>The More Than Complete Hitchhiker's Guide (Hit...</td>\n",
       "      <td>Douglas Adams</td>\n",
       "      <td>4.58</td>\n",
       "      <td>0681403225</td>\n",
       "      <td>9780681403222</td>\n",
       "      <td>en-US</td>\n",
       "      <td>624</td>\n",
       "      <td>424</td>\n",
       "      <td>37</td>\n",
       "    </tr>\n",
       "  </tbody>\n",
       "</table>\n",
       "</div>"
      ],
      "text/plain": [
       "       bookID                                              title  \\\n",
       "2814     8710   The Illustrated Hitchhiker's Guide To The Galaxy   \n",
       "5736    17059  The Hitchhiker's Guide to the Galaxy (Hitchhik...   \n",
       "5933    17707  The Hitchhiker's Guide to the Galaxy (Hitchhik...   \n",
       "9679    31218  The Hitchhiker's Guide to the Galaxy: The Quin...   \n",
       "10288   33342  The More Than Complete Hitchhiker's Guide (Hit...   \n",
       "\n",
       "             authors  average_rating        isbn         isbn13 language_code  \\\n",
       "2814   Douglas Adams            4.32  0517599244  9780517599242           eng   \n",
       "5736   Douglas Adams            4.22  1400052939  9781400052936           eng   \n",
       "5933   Douglas Adams            4.22  0671746065  9780671746063           eng   \n",
       "9679   Douglas Adams            4.37  0563504072  9780563504078           eng   \n",
       "10288  Douglas Adams            4.58  0681403225  9780681403222         en-US   \n",
       "\n",
       "       # num_pages  ratings_count  text_reviews_count  \n",
       "2814            96            286                  19  \n",
       "5736           271            210                  19  \n",
       "5933           216           2765                 246  \n",
       "9679             3             57                   1  \n",
       "10288          624            424                  37  "
      ]
     },
     "execution_count": 12,
     "metadata": {},
     "output_type": "execute_result"
    }
   ],
   "source": [
    "url3 = 'http://localhost:5000/data/get/equal/books_c.csv/authors/Douglas Adams'\n",
    "r = requests.get(url3)\n",
    "r_pd = pd.DataFrame(r.json())\n",
    "r_pd.tail()"
   ]
  },
  {
   "cell_type": "code",
   "execution_count": 11,
   "metadata": {},
   "outputs": [
    {
     "data": {
      "text/plain": [
       "<Response [404]>"
      ]
     },
     "execution_count": 11,
     "metadata": {},
     "output_type": "execute_result"
    }
   ],
   "source": [
    "url4 = 'http://localhost:5000/data/average_rating/J.K. Rowling'\n",
    "r = requests.get(url4)\n",
    "r\n",
    "# r_pd = pd.DataFrame(r.json())\n",
    "# r_pd.tail()"
   ]
  },
  {
   "cell_type": "markdown",
   "metadata": {},
   "source": [
    "Dari contoh diatas, kita sudah dapat melakukan fetching data menggunakan API dan seberapa bermanfaatnya melakukan dynamic routing. Kedepannya, diharapkan pengetahuan ini dapat dikembangkan dengan melakukan fetching data dari database. "
   ]
  },
  {
   "cell_type": "markdown",
   "metadata": {},
   "source": [
    "## Deploying Flask APP "
   ]
  },
  {
   "cell_type": "markdown",
   "metadata": {},
   "source": [
    "Sekarang, setelah Flask App kita sudah berhasil dijalankan, kita akan coba deploy app tersebut **(beserta environmentnya)** ke app hosting/web hosting/cloud. Untuk saat ini, kita akan menggunakan [heroku](https://www.heroku.com/) karena **gratis**. Untuk melakukan deployment, silakan registrasi akun baru. \n",
    "\n",
    "Langkah ini dapat kalian ikuti pada [sumber ini](https://stackabuse.com/deploying-a-flask-application-to-heroku/)"
   ]
  },
  {
   "cell_type": "markdown",
   "metadata": {},
   "source": [
    "### Get the requirements"
   ]
  },
  {
   "cell_type": "markdown",
   "metadata": {},
   "source": [
    "Silakan buat environment baru, lalu hanya install `pandas`, `flask`, dan `gunicorn`. Setelah libary tersebut berhasil diinstal, jalankan `pip freeze > requirements.txt` untuk mengeksport semua library kedalam file `requirements.txt`. Perlu diingat bahwa Heroku hanya bisa mengenali libary yang kita pakai jika kita menuliskannya kedalam requirements.txt"
   ]
  },
  {
   "cell_type": "markdown",
   "metadata": {},
   "source": [
    "### Create Heroku App\n",
    "Untuk membuat heroku app, cukup klik new->app pada dashboard heroku. Perlu diingat bahwa nama app di heroku haruslah unik. "
   ]
  },
  {
   "cell_type": "markdown",
   "metadata": {},
   "source": [
    "### Deployment"
   ]
  },
  {
   "cell_type": "markdown",
   "metadata": {},
   "source": [
    "Setelah kita membuat dan menamai app kita di heroku, kita harus mengupload file app kita dari lokal. Untuk melakukan hal ini, kita akan menggunakan git. Cara termudah adalah dengan membuat repository baru di github, lalu sambungkan aplikasi heroku degan repository github tersebut. \n",
    "![](res/deploy-1.PNG)\n",
    "\n",
    "Nyalakan `Automatic Deploy` jika ingin melakukan deployment ulang setiap terjadi perubahan pada repositoy secara otomatis (kurang disarankan). Setelah repository terhubung, klik tombol deploy branch yang berada di bagian bawah app heroku (jika tidak ada branch pada repository github, secara default branch master yang akan dipilih). \n",
    "\n",
    "![](res/deploy-2.PNG)"
   ]
  },
  {
   "cell_type": "markdown",
   "metadata": {},
   "source": [
    "# Test Your API Endpoints"
   ]
  },
  {
   "cell_type": "markdown",
   "metadata": {},
   "source": [
    "Setelah deployment app kita behasil, kita bisa mencoba mengaksesnya melalui browser, atau jupyter notebook(lebih disarankan). Mari coba beberapa endpoints yang telah kita coba lakukan di lokal. \n",
    "\n",
    "Untuk catatan, tidak perlu menuliskan port pada url heroku, karena kita sudah mengaturnya pada file `Procfile`"
   ]
  },
  {
   "cell_type": "code",
   "execution_count": 4,
   "metadata": {},
   "outputs": [
    {
     "data": {
      "text/html": [
       "<div>\n",
       "<style scoped>\n",
       "    .dataframe tbody tr th:only-of-type {\n",
       "        vertical-align: middle;\n",
       "    }\n",
       "\n",
       "    .dataframe tbody tr th {\n",
       "        vertical-align: top;\n",
       "    }\n",
       "\n",
       "    .dataframe thead th {\n",
       "        text-align: right;\n",
       "    }\n",
       "</style>\n",
       "<table border=\"1\" class=\"dataframe\">\n",
       "  <thead>\n",
       "    <tr style=\"text-align: right;\">\n",
       "      <th></th>\n",
       "      <th>bookID</th>\n",
       "      <th>title</th>\n",
       "      <th>authors</th>\n",
       "      <th>average_rating</th>\n",
       "      <th>isbn</th>\n",
       "      <th>isbn13</th>\n",
       "      <th>language_code</th>\n",
       "      <th># num_pages</th>\n",
       "      <th>ratings_count</th>\n",
       "      <th>text_reviews_count</th>\n",
       "    </tr>\n",
       "  </thead>\n",
       "  <tbody>\n",
       "    <tr>\n",
       "      <td>0</td>\n",
       "      <td>1</td>\n",
       "      <td>Harry Potter and the Half-Blood Prince (Harry ...</td>\n",
       "      <td>J.K. Rowling</td>\n",
       "      <td>4.56</td>\n",
       "      <td>0439785960</td>\n",
       "      <td>9780439785969</td>\n",
       "      <td>eng</td>\n",
       "      <td>652</td>\n",
       "      <td>1944099</td>\n",
       "      <td>26249</td>\n",
       "    </tr>\n",
       "    <tr>\n",
       "      <td>1</td>\n",
       "      <td>2</td>\n",
       "      <td>Harry Potter and the Order of the Phoenix (Har...</td>\n",
       "      <td>J.K. Rowling</td>\n",
       "      <td>4.49</td>\n",
       "      <td>0439358078</td>\n",
       "      <td>9780439358071</td>\n",
       "      <td>eng</td>\n",
       "      <td>870</td>\n",
       "      <td>1996446</td>\n",
       "      <td>27613</td>\n",
       "    </tr>\n",
       "    <tr>\n",
       "      <td>2</td>\n",
       "      <td>3</td>\n",
       "      <td>Harry Potter and the Sorcerer's Stone (Harry P...</td>\n",
       "      <td>J.K. Rowling</td>\n",
       "      <td>4.47</td>\n",
       "      <td>0439554934</td>\n",
       "      <td>9780439554930</td>\n",
       "      <td>eng</td>\n",
       "      <td>320</td>\n",
       "      <td>5629932</td>\n",
       "      <td>70390</td>\n",
       "    </tr>\n",
       "    <tr>\n",
       "      <td>3</td>\n",
       "      <td>4</td>\n",
       "      <td>Harry Potter and the Chamber of Secrets (Harry...</td>\n",
       "      <td>J.K. Rowling</td>\n",
       "      <td>4.41</td>\n",
       "      <td>0439554896</td>\n",
       "      <td>9780439554893</td>\n",
       "      <td>eng</td>\n",
       "      <td>352</td>\n",
       "      <td>6267</td>\n",
       "      <td>272</td>\n",
       "    </tr>\n",
       "    <tr>\n",
       "      <td>4</td>\n",
       "      <td>5</td>\n",
       "      <td>Harry Potter and the Prisoner of Azkaban (Harr...</td>\n",
       "      <td>J.K. Rowling</td>\n",
       "      <td>4.55</td>\n",
       "      <td>043965548X</td>\n",
       "      <td>9780439655484</td>\n",
       "      <td>eng</td>\n",
       "      <td>435</td>\n",
       "      <td>2149872</td>\n",
       "      <td>33964</td>\n",
       "    </tr>\n",
       "    <tr>\n",
       "      <td>...</td>\n",
       "      <td>...</td>\n",
       "      <td>...</td>\n",
       "      <td>...</td>\n",
       "      <td>...</td>\n",
       "      <td>...</td>\n",
       "      <td>...</td>\n",
       "      <td>...</td>\n",
       "      <td>...</td>\n",
       "      <td>...</td>\n",
       "      <td>...</td>\n",
       "    </tr>\n",
       "    <tr>\n",
       "      <td>13709</td>\n",
       "      <td>47699</td>\n",
       "      <td>M Is for Magic</td>\n",
       "      <td>Neil Gaiman-Teddy Kristiansen</td>\n",
       "      <td>3.82</td>\n",
       "      <td>0061186422</td>\n",
       "      <td>9780061186424</td>\n",
       "      <td>eng</td>\n",
       "      <td>260</td>\n",
       "      <td>11317</td>\n",
       "      <td>1060</td>\n",
       "    </tr>\n",
       "    <tr>\n",
       "      <td>13710</td>\n",
       "      <td>47700</td>\n",
       "      <td>Black Orchid</td>\n",
       "      <td>Neil Gaiman-Dave McKean</td>\n",
       "      <td>3.72</td>\n",
       "      <td>0930289552</td>\n",
       "      <td>9780930289553</td>\n",
       "      <td>eng</td>\n",
       "      <td>160</td>\n",
       "      <td>8710</td>\n",
       "      <td>361</td>\n",
       "    </tr>\n",
       "    <tr>\n",
       "      <td>13711</td>\n",
       "      <td>47701</td>\n",
       "      <td>InterWorld (InterWorld  #1)</td>\n",
       "      <td>Neil Gaiman-Michael Reaves</td>\n",
       "      <td>3.53</td>\n",
       "      <td>0061238961</td>\n",
       "      <td>9780061238963</td>\n",
       "      <td>en-US</td>\n",
       "      <td>239</td>\n",
       "      <td>14334</td>\n",
       "      <td>1485</td>\n",
       "    </tr>\n",
       "    <tr>\n",
       "      <td>13712</td>\n",
       "      <td>47708</td>\n",
       "      <td>The Faeries' Oracle</td>\n",
       "      <td>Brian Froud-Jessica Macbeth</td>\n",
       "      <td>4.43</td>\n",
       "      <td>0743201116</td>\n",
       "      <td>9780743201117</td>\n",
       "      <td>eng</td>\n",
       "      <td>224</td>\n",
       "      <td>1550</td>\n",
       "      <td>38</td>\n",
       "    </tr>\n",
       "    <tr>\n",
       "      <td>13713</td>\n",
       "      <td>47709</td>\n",
       "      <td>The World of The Dark Crystal</td>\n",
       "      <td>Brian Froud</td>\n",
       "      <td>4.29</td>\n",
       "      <td>1862056242</td>\n",
       "      <td>9781862056244</td>\n",
       "      <td>eng</td>\n",
       "      <td>132</td>\n",
       "      <td>3572</td>\n",
       "      <td>33</td>\n",
       "    </tr>\n",
       "  </tbody>\n",
       "</table>\n",
       "<p>13714 rows × 10 columns</p>\n",
       "</div>"
      ],
      "text/plain": [
       "       bookID                                              title  \\\n",
       "0           1  Harry Potter and the Half-Blood Prince (Harry ...   \n",
       "1           2  Harry Potter and the Order of the Phoenix (Har...   \n",
       "2           3  Harry Potter and the Sorcerer's Stone (Harry P...   \n",
       "3           4  Harry Potter and the Chamber of Secrets (Harry...   \n",
       "4           5  Harry Potter and the Prisoner of Azkaban (Harr...   \n",
       "...       ...                                                ...   \n",
       "13709   47699                                     M Is for Magic   \n",
       "13710   47700                                       Black Orchid   \n",
       "13711   47701                        InterWorld (InterWorld  #1)   \n",
       "13712   47708                                The Faeries' Oracle   \n",
       "13713   47709                      The World of The Dark Crystal   \n",
       "\n",
       "                             authors  average_rating        isbn  \\\n",
       "0                       J.K. Rowling            4.56  0439785960   \n",
       "1                       J.K. Rowling            4.49  0439358078   \n",
       "2                       J.K. Rowling            4.47  0439554934   \n",
       "3                       J.K. Rowling            4.41  0439554896   \n",
       "4                       J.K. Rowling            4.55  043965548X   \n",
       "...                              ...             ...         ...   \n",
       "13709  Neil Gaiman-Teddy Kristiansen            3.82  0061186422   \n",
       "13710        Neil Gaiman-Dave McKean            3.72  0930289552   \n",
       "13711     Neil Gaiman-Michael Reaves            3.53  0061238961   \n",
       "13712    Brian Froud-Jessica Macbeth            4.43  0743201116   \n",
       "13713                    Brian Froud            4.29  1862056242   \n",
       "\n",
       "              isbn13 language_code  # num_pages  ratings_count  \\\n",
       "0      9780439785969           eng          652        1944099   \n",
       "1      9780439358071           eng          870        1996446   \n",
       "2      9780439554930           eng          320        5629932   \n",
       "3      9780439554893           eng          352           6267   \n",
       "4      9780439655484           eng          435        2149872   \n",
       "...              ...           ...          ...            ...   \n",
       "13709  9780061186424           eng          260          11317   \n",
       "13710  9780930289553           eng          160           8710   \n",
       "13711  9780061238963         en-US          239          14334   \n",
       "13712  9780743201117           eng          224           1550   \n",
       "13713  9781862056244           eng          132           3572   \n",
       "\n",
       "       text_reviews_count  \n",
       "0                   26249  \n",
       "1                   27613  \n",
       "2                   70390  \n",
       "3                     272  \n",
       "4                   33964  \n",
       "...                   ...  \n",
       "13709                1060  \n",
       "13710                 361  \n",
       "13711                1485  \n",
       "13712                  38  \n",
       "13713                  33  \n",
       "\n",
       "[13714 rows x 10 columns]"
      ]
     },
     "execution_count": 4,
     "metadata": {},
     "output_type": "execute_result"
    }
   ],
   "source": [
    "import requests\n",
    "import pandas as pd \n",
    "heroku_url = 'https://algo-capstone.herokuapp.com/data/get/books_c.csv'\n",
    "r = requests.get(heroku_url)\n",
    "r_pd = pd.DataFrame(r.json())\n",
    "r_pd"
   ]
  },
  {
   "cell_type": "markdown",
   "metadata": {},
   "source": [
    "# Document your API"
   ]
  },
  {
   "cell_type": "markdown",
   "metadata": {},
   "source": [
    "Hal terpenting dalam pembuatan API adalah dokumentasi. Aplikasi yang bagus harus memiliki dokumentasi untuk user yang belum tahu cara menggunakannya. Hal ini juga memudahkan tim kami untuk melakukan penilaian. Oleh karena itu, buatlah dokumentasi API sederhana dengan format : \n",
    "- Deskripsi API \n",
    "- Endpoints\n",
    "___\n",
    "```\n",
    "Deskripsi: (Contoh Dokumentasi)\n",
    "API ini dinominasikan sebagai capstone project yang berguna untuk mengirimkan data kepada user. Proses wrangling dilakukan sesuai endpoint-endpoint yang dimaksud. Base url dari aplikasi ini adalah https://algo-capstone.herokuapp.com\n",
    "\n",
    "Endpoints: \n",
    "    1. / , method = GET\n",
    "    Merupakan endpoint home, dan akan mengembalikan nilai berupa string selamat datang\n",
    "    \n",
    "    2. /data/get/equal/<data_name>/<column>/<value>', methods=['GET'])\n",
    "    Mengembalikan data <data_name> dalam bentuk JSON. Beberapa data yang tersedia adalah : \n",
    "        - books_c.csv\n",
    "        - pulsar_stars.csv (tidak digunakan, hanya contoh saja)\n",
    "        \n",
    "    3. /data/get/equal/<data_name>/<column>/<value>\n",
    "    Mengembalikan <data_name> yang telah di filter dimana nilai pada <column> = <value>\n",
    "\n",
    "```\n",
    "___"
   ]
  },
  {
   "cell_type": "markdown",
   "metadata": {},
   "source": [
    "# Tips "
   ]
  },
  {
   "cell_type": "markdown",
   "metadata": {},
   "source": [
    "Jika dirasa ada kesulitan untuk menentukan informasi apa yang akan dikirimkan dalam sebuah endpoint (membuat endpoint), cobalah beralih ke sudut pandang user. Sebagai user, informasi apa yang ingin kita dapatkan dari data tersebut? Akan ada sangat banyak kemungkinan yang bisa diambil. Kalian bisa melakukannya! \n",
    "\n",
    "Happy Coding !\n",
    "~ Team Algoritma"
   ]
  },
  {
   "cell_type": "code",
   "execution_count": null,
   "metadata": {},
   "outputs": [],
   "source": []
  }
 ],
 "metadata": {
  "hide_input": false,
  "kernelspec": {
   "display_name": "capstone-API",
   "language": "python",
   "name": "capstone-api"
  },
  "language_info": {
   "codemirror_mode": {
    "name": "ipython",
    "version": 3
   },
   "file_extension": ".py",
   "mimetype": "text/x-python",
   "name": "python",
   "nbconvert_exporter": "python",
   "pygments_lexer": "ipython3",
   "version": "3.8.5"
  },
  "latex_envs": {
   "LaTeX_envs_menu_present": true,
   "autoclose": true,
   "autocomplete": true,
   "bibliofile": "biblio.bib",
   "cite_by": "apalike",
   "current_citInitial": 1,
   "eqLabelWithNumbers": true,
   "eqNumInitial": 1,
   "hotkeys": {
    "equation": "Ctrl-E",
    "itemize": "Ctrl-I"
   },
   "labels_anchors": false,
   "latex_user_defs": false,
   "report_style_numbering": false,
   "user_envs_cfg": false
  },
  "toc": {
   "base_numbering": 1,
   "nav_menu": {},
   "number_sections": true,
   "sideBar": true,
   "skip_h1_title": false,
   "title_cell": "Table of Contents",
   "title_sidebar": "Contents",
   "toc_cell": false,
   "toc_position": {},
   "toc_section_display": true,
   "toc_window_display": false
  },
  "varInspector": {
   "cols": {
    "lenName": 16,
    "lenType": 16,
    "lenVar": 40
   },
   "kernels_config": {
    "python": {
     "delete_cmd_postfix": "",
     "delete_cmd_prefix": "del ",
     "library": "var_list.py",
     "varRefreshCmd": "print(var_dic_list())"
    },
    "r": {
     "delete_cmd_postfix": ") ",
     "delete_cmd_prefix": "rm(",
     "library": "var_list.r",
     "varRefreshCmd": "cat(var_dic_list()) "
    }
   },
   "types_to_exclude": [
    "module",
    "function",
    "builtin_function_or_method",
    "instance",
    "_Feature"
   ],
   "window_display": false
  }
 },
 "nbformat": 4,
 "nbformat_minor": 4
}
